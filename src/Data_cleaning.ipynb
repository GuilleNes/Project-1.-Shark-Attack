{
 "cells": [
  {
   "cell_type": "code",
   "execution_count": 1,
   "id": "5b019820",
   "metadata": {},
   "outputs": [],
   "source": [
    "import pandas as pd\n",
    "import re\n",
    "import functions as fun"
   ]
  },
  {
   "cell_type": "code",
   "execution_count": 2,
   "id": "298728f3",
   "metadata": {},
   "outputs": [],
   "source": [
    "attacks = pd.read_csv(\"../data/attacks.csv\", encoding= 'unicode_escape')\n",
    "\n",
    "# First we rename some of the columns, as the names have spaces on them \n",
    "fun.rename_columns(attacks, \"Species \", \"Species\")\n",
    "fun.rename_columns(attacks, \"Sex \", \"Sex\")\n",
    "\n",
    "# Next, we drop some of the columns we are not going to use and thw rows with many Nan values\n",
    "fun.drop_columns(attacks, [\"Unnamed: 22\", \"Unnamed: 23\", \"original order\", \"href formula\", \"href\", \"Case Number.1\",\"Case Number.2\", \"pdf\", \"Case Number\", \"Species\", \"Name\", \"Age\", \"Injury\", \"Location\"])\n",
    "fun.drop_rows(attacks, 9)"
   ]
  },
  {
   "cell_type": "code",
   "execution_count": 3,
   "id": "09ac99c6",
   "metadata": {},
   "outputs": [],
   "source": [
    "fun.move_info(attacks, \"Year\", \"Date\")\n",
    "\n",
    "# We are going to clean the values in the columns in order to get them in more readable format\n",
    "attacks[\"Year\"] = [str(i).split(\".\")[0] for i in attacks[\"Year\"]]"
   ]
  },
  {
   "cell_type": "markdown",
   "id": "19e714db",
   "metadata": {},
   "source": [
    "From here, we are doing regex on the different columns in order to have the most cleared data\n"
   ]
  },
  {
   "cell_type": "markdown",
   "id": "a0dd7e9e",
   "metadata": {},
   "source": [
    "The percentage between \"Nan\" values and total number of rows, justify the cleaning process we have been doing before. From this dataframe we are able to establish hypothesis without loosing much value information during the cleaning.\n"
   ]
  },
  {
   "cell_type": "markdown",
   "id": "8da6dfeb",
   "metadata": {},
   "source": [
    "We start to clean the Date column, transforming it into Year and Month\n",
    "We are going to clean the Date and Year columns, trying to clear the info and extracting the most usefull one\n",
    "First we create another column called NewYear with the str values of the column Year.\n"
   ]
  },
  {
   "cell_type": "code",
   "execution_count": 4,
   "id": "22ae39cb",
   "metadata": {
    "scrolled": true
   },
   "outputs": [],
   "source": [
    "fun.regex_columns(attacks, \"Year\", \"^\\d{4}\")\n",
    "\n",
    "fun.regex_new_column(attacks, \"Date\", \"Month\", \"([a-z|A-Z]{3})\" )\n",
    "\n",
    "fun.regex_columns(attacks, \"Month\", \"(?:Jan|Feb|Mar|Apr|May|Jun|Jul|Aug|Sep|Oct|Nov|Dec)\")\n",
    "\n",
    "fun.drop_columns(attacks, \"Date\")"
   ]
  },
  {
   "cell_type": "code",
   "execution_count": 5,
   "id": "c1840cef",
   "metadata": {},
   "outputs": [
    {
     "data": {
      "text/html": [
       "<div>\n",
       "<style scoped>\n",
       "    .dataframe tbody tr th:only-of-type {\n",
       "        vertical-align: middle;\n",
       "    }\n",
       "\n",
       "    .dataframe tbody tr th {\n",
       "        vertical-align: top;\n",
       "    }\n",
       "\n",
       "    .dataframe thead th {\n",
       "        text-align: right;\n",
       "    }\n",
       "</style>\n",
       "<table border=\"1\" class=\"dataframe\">\n",
       "  <thead>\n",
       "    <tr style=\"text-align: right;\">\n",
       "      <th></th>\n",
       "      <th>Year</th>\n",
       "      <th>Type</th>\n",
       "      <th>Country</th>\n",
       "      <th>Area</th>\n",
       "      <th>Activity</th>\n",
       "      <th>Sex</th>\n",
       "      <th>Fatal (Y/N)</th>\n",
       "      <th>Time</th>\n",
       "      <th>Investigator or Source</th>\n",
       "      <th>Month</th>\n",
       "    </tr>\n",
       "  </thead>\n",
       "  <tbody>\n",
       "    <tr>\n",
       "      <th>3008</th>\n",
       "      <td>1981</td>\n",
       "      <td>Unprovoked</td>\n",
       "      <td>USA</td>\n",
       "      <td>Florida</td>\n",
       "      <td>Board involved activity</td>\n",
       "      <td>M</td>\n",
       "      <td>N</td>\n",
       "      <td>NaN</td>\n",
       "      <td>St. Petersburg Times, 10/3/1981</td>\n",
       "      <td>Oct</td>\n",
       "    </tr>\n",
       "  </tbody>\n",
       "</table>\n",
       "</div>"
      ],
      "text/plain": [
       "      Year        Type Country     Area                 Activity Sex  \\\n",
       "3008  1981  Unprovoked     USA  Florida  Board involved activity   M   \n",
       "\n",
       "     Fatal (Y/N) Time           Investigator or Source Month  \n",
       "3008           N  NaN  St. Petersburg Times, 10/3/1981   Oct  "
      ]
     },
     "execution_count": 5,
     "metadata": {},
     "output_type": "execute_result"
    }
   ],
   "source": [
    "activities = {\n",
    "                         \"Swimming related\": \".*(swim).*|.*(Swim).*\",\n",
    "                         \"Board involved activity\": \".*(Surf).*|.*(surf).*|.*(Board).*|.*(board).*|.*(Pad).*|.*(pad).*|.*(Kay).*|.*(Canoe).*\",\n",
    "                         \"Fishing related\": \".*(fish).*|(Fish).*|.*(Kill).*|.*(Pull).*|.*(Pick).*|.*(feed).*\",\n",
    "                         \"Beach activities\":\".*(Wad).*|.*(Bath).*|.*(bath).*|.*(Stans).*|.*(Play).*|.*(play).*|.*(Walk).*|.*(walk).*\",\n",
    "                         \"Diving activities\": \".*(Div).*|.*(div).*|.*(underw).*|.*(Snork).*\",\n",
    "                         \"Consequence of a shipwreck\": \".*(dinghy).*|.*(collide).*|.*(lifeboat).*|.*(explodex).*|.*(skiff).*|.*(sink).*|.*(sank).*\",\n",
    "                         \"Consequence of handeling sharks\": \".*(Shark).*|.*(shark).*\",\n",
    "}\n",
    "        \n",
    "fun.filter_activity(attacks, activities, \"Activity\")"
   ]
  },
  {
   "cell_type": "code",
   "execution_count": 6,
   "id": "68ebf2e0",
   "metadata": {},
   "outputs": [
    {
     "data": {
      "text/plain": [
       "Afternoon                              1555\n",
       "Morning                                 951\n",
       "Random or not clear time references     284\n",
       "Nightime                                115\n",
       "Name: Time, dtype: int64"
      ]
     },
     "execution_count": 6,
     "metadata": {},
     "output_type": "execute_result"
    }
   ],
   "source": [
    "fun.filter_time(attacks, \"Time\")"
   ]
  },
  {
   "cell_type": "code",
   "execution_count": 7,
   "id": "3dd73a9f",
   "metadata": {},
   "outputs": [
    {
     "data": {
      "text/plain": [
       "(4952, 10)"
      ]
     },
     "execution_count": 7,
     "metadata": {},
     "output_type": "execute_result"
    }
   ],
   "source": [
    "attacks.shape"
   ]
  },
  {
   "cell_type": "code",
   "execution_count": 9,
   "id": "215a7cbf",
   "metadata": {},
   "outputs": [],
   "source": [
    "fun.regex_new_column(attacks, \"Fatal (Y/N)\", \"Fatal\", \"^(N|Y)\")\n",
    "\n",
    "fun.drop_columns(attacks, \"Fatal (Y/N)\")"
   ]
  },
  {
   "cell_type": "code",
   "execution_count": 12,
   "id": "3e065b5a",
   "metadata": {},
   "outputs": [
    {
     "data": {
      "text/plain": [
       "N    3724\n",
       "Y    1077\n",
       "      151\n",
       "Name: Fatal, dtype: int64"
      ]
     },
     "execution_count": 12,
     "metadata": {},
     "output_type": "execute_result"
    }
   ],
   "source": [
    "attacks[\"Fatal\"].value_counts()"
   ]
  },
  {
   "cell_type": "code",
   "execution_count": 11,
   "id": "97d6c3f2",
   "metadata": {},
   "outputs": [
    {
     "data": {
      "text/html": [
       "<div>\n",
       "<style scoped>\n",
       "    .dataframe tbody tr th:only-of-type {\n",
       "        vertical-align: middle;\n",
       "    }\n",
       "\n",
       "    .dataframe tbody tr th {\n",
       "        vertical-align: top;\n",
       "    }\n",
       "\n",
       "    .dataframe thead th {\n",
       "        text-align: right;\n",
       "    }\n",
       "</style>\n",
       "<table border=\"1\" class=\"dataframe\">\n",
       "  <thead>\n",
       "    <tr style=\"text-align: right;\">\n",
       "      <th></th>\n",
       "      <th>Year</th>\n",
       "      <th>Type</th>\n",
       "      <th>Country</th>\n",
       "      <th>Area</th>\n",
       "      <th>Activity</th>\n",
       "      <th>Sex</th>\n",
       "      <th>Time</th>\n",
       "      <th>Investigator or Source</th>\n",
       "      <th>Month</th>\n",
       "      <th>Fatal</th>\n",
       "    </tr>\n",
       "  </thead>\n",
       "  <tbody>\n",
       "    <tr>\n",
       "      <th>2813</th>\n",
       "      <td>1986</td>\n",
       "      <td>Unprovoked</td>\n",
       "      <td>AUSTRALIA</td>\n",
       "      <td>New South Wales</td>\n",
       "      <td>Diving activities</td>\n",
       "      <td>F</td>\n",
       "      <td>NaN</td>\n",
       "      <td>Australian Shark Attack File</td>\n",
       "      <td>Aug</td>\n",
       "      <td>N</td>\n",
       "    </tr>\n",
       "  </tbody>\n",
       "</table>\n",
       "</div>"
      ],
      "text/plain": [
       "      Year        Type    Country             Area           Activity Sex  \\\n",
       "2813  1986  Unprovoked  AUSTRALIA  New South Wales  Diving activities   F   \n",
       "\n",
       "     Time        Investigator or Source Month Fatal  \n",
       "2813  NaN  Australian Shark Attack File   Aug     N  "
      ]
     },
     "execution_count": 11,
     "metadata": {},
     "output_type": "execute_result"
    }
   ],
   "source": [
    "fun.regex_columns(attacks, \"Sex\", \"^(F|M)\")"
   ]
  },
  {
   "cell_type": "code",
   "execution_count": 13,
   "id": "ba15292b",
   "metadata": {},
   "outputs": [
    {
     "data": {
      "text/plain": [
       "M    4317\n",
       "F     549\n",
       "       86\n",
       "Name: Sex, dtype: int64"
      ]
     },
     "execution_count": 13,
     "metadata": {},
     "output_type": "execute_result"
    }
   ],
   "source": [
    "attacks[\"Sex\"].value_counts()"
   ]
  },
  {
   "cell_type": "code",
   "execution_count": 10,
   "id": "d270638e",
   "metadata": {},
   "outputs": [
    {
     "data": {
      "text/plain": [
       "Unprovoked      4026\n",
       "Provoked         484\n",
       "Invalid          141\n",
       "Sea Disaster     131\n",
       "Boating          112\n",
       "Boat              54\n",
       "Questionable       2\n",
       "Boatomg            1\n",
       "Name: Type, dtype: int64"
      ]
     },
     "execution_count": 10,
     "metadata": {},
     "output_type": "execute_result"
    }
   ],
   "source": [
    "attacks[\"Type\"].value_counts()"
   ]
  },
  {
   "cell_type": "code",
   "execution_count": 15,
   "id": "96281f60",
   "metadata": {},
   "outputs": [],
   "source": [
    "attacks.to_csv(\"../data/attacks_cleaned.csv\", index=False)"
   ]
  },
  {
   "cell_type": "code",
   "execution_count": 17,
   "id": "09fad0ea",
   "metadata": {},
   "outputs": [
    {
     "data": {
      "text/html": [
       "<div>\n",
       "<style scoped>\n",
       "    .dataframe tbody tr th:only-of-type {\n",
       "        vertical-align: middle;\n",
       "    }\n",
       "\n",
       "    .dataframe tbody tr th {\n",
       "        vertical-align: top;\n",
       "    }\n",
       "\n",
       "    .dataframe thead th {\n",
       "        text-align: right;\n",
       "    }\n",
       "</style>\n",
       "<table border=\"1\" class=\"dataframe\">\n",
       "  <thead>\n",
       "    <tr style=\"text-align: right;\">\n",
       "      <th></th>\n",
       "      <th>Year</th>\n",
       "      <th>Type</th>\n",
       "      <th>Country</th>\n",
       "      <th>Area</th>\n",
       "      <th>Activity</th>\n",
       "      <th>Sex</th>\n",
       "      <th>Time</th>\n",
       "      <th>Investigator or Source</th>\n",
       "      <th>Month</th>\n",
       "      <th>Fatal</th>\n",
       "    </tr>\n",
       "  </thead>\n",
       "  <tbody>\n",
       "    <tr>\n",
       "      <th>0</th>\n",
       "      <td>2018</td>\n",
       "      <td>Boating</td>\n",
       "      <td>USA</td>\n",
       "      <td>California</td>\n",
       "      <td>Board involved activity</td>\n",
       "      <td>F</td>\n",
       "      <td>Random or not clear time references</td>\n",
       "      <td>R. Collier, GSAF</td>\n",
       "      <td>Jun</td>\n",
       "      <td>N</td>\n",
       "    </tr>\n",
       "    <tr>\n",
       "      <th>1</th>\n",
       "      <td>2018</td>\n",
       "      <td>Unprovoked</td>\n",
       "      <td>USA</td>\n",
       "      <td>Georgia</td>\n",
       "      <td>Standing</td>\n",
       "      <td>F</td>\n",
       "      <td>Afternoon</td>\n",
       "      <td>K.McMurray, TrackingSharks.com</td>\n",
       "      <td>Jun</td>\n",
       "      <td>N</td>\n",
       "    </tr>\n",
       "    <tr>\n",
       "      <th>2</th>\n",
       "      <td>2018</td>\n",
       "      <td>Invalid</td>\n",
       "      <td>USA</td>\n",
       "      <td>Hawaii</td>\n",
       "      <td>Board involved activity</td>\n",
       "      <td>M</td>\n",
       "      <td>Morning</td>\n",
       "      <td>K.McMurray, TrackingSharks.com</td>\n",
       "      <td>Jun</td>\n",
       "      <td>N</td>\n",
       "    </tr>\n",
       "    <tr>\n",
       "      <th>3</th>\n",
       "      <td>2018</td>\n",
       "      <td>Unprovoked</td>\n",
       "      <td>AUSTRALIA</td>\n",
       "      <td>New South Wales</td>\n",
       "      <td>Board involved activity</td>\n",
       "      <td>M</td>\n",
       "      <td>NaN</td>\n",
       "      <td>B. Myatt, GSAF</td>\n",
       "      <td>Jun</td>\n",
       "      <td>N</td>\n",
       "    </tr>\n",
       "    <tr>\n",
       "      <th>4</th>\n",
       "      <td>2018</td>\n",
       "      <td>Provoked</td>\n",
       "      <td>MEXICO</td>\n",
       "      <td>Colima</td>\n",
       "      <td>Diving activities</td>\n",
       "      <td>M</td>\n",
       "      <td>NaN</td>\n",
       "      <td>A .Kipper</td>\n",
       "      <td>Jun</td>\n",
       "      <td>N</td>\n",
       "    </tr>\n",
       "    <tr>\n",
       "      <th>...</th>\n",
       "      <td>...</td>\n",
       "      <td>...</td>\n",
       "      <td>...</td>\n",
       "      <td>...</td>\n",
       "      <td>...</td>\n",
       "      <td>...</td>\n",
       "      <td>...</td>\n",
       "      <td>...</td>\n",
       "      <td>...</td>\n",
       "      <td>...</td>\n",
       "    </tr>\n",
       "    <tr>\n",
       "      <th>6296</th>\n",
       "      <td></td>\n",
       "      <td>Unprovoked</td>\n",
       "      <td>AUSTRALIA</td>\n",
       "      <td>New South Wales</td>\n",
       "      <td>Swimming related</td>\n",
       "      <td>M</td>\n",
       "      <td>NaN</td>\n",
       "      <td>L. Becke in New York Sun, 9/9/1906; L. Schultz...</td>\n",
       "      <td></td>\n",
       "      <td>Y</td>\n",
       "    </tr>\n",
       "    <tr>\n",
       "      <th>6297</th>\n",
       "      <td></td>\n",
       "      <td>Unprovoked</td>\n",
       "      <td>AUSTRALIA</td>\n",
       "      <td>Western Australia</td>\n",
       "      <td>Diving activities</td>\n",
       "      <td>M</td>\n",
       "      <td>NaN</td>\n",
       "      <td>H. Taunton; N. Bartlett,  p. 234</td>\n",
       "      <td></td>\n",
       "      <td>Y</td>\n",
       "    </tr>\n",
       "    <tr>\n",
       "      <th>6298</th>\n",
       "      <td></td>\n",
       "      <td>Unprovoked</td>\n",
       "      <td>AUSTRALIA</td>\n",
       "      <td>Western Australia</td>\n",
       "      <td>Diving activities</td>\n",
       "      <td>M</td>\n",
       "      <td>NaN</td>\n",
       "      <td>H. Taunton; N. Bartlett,  pp. 233-234</td>\n",
       "      <td></td>\n",
       "      <td>Y</td>\n",
       "    </tr>\n",
       "    <tr>\n",
       "      <th>6299</th>\n",
       "      <td></td>\n",
       "      <td>Unprovoked</td>\n",
       "      <td>USA</td>\n",
       "      <td>North Carolina</td>\n",
       "      <td>Swimming related</td>\n",
       "      <td>M</td>\n",
       "      <td>NaN</td>\n",
       "      <td>F. Schwartz, p.23; C. Creswell, GSAF</td>\n",
       "      <td></td>\n",
       "      <td>Y</td>\n",
       "    </tr>\n",
       "    <tr>\n",
       "      <th>6301</th>\n",
       "      <td></td>\n",
       "      <td>Unprovoked</td>\n",
       "      <td>CEYLON (SRI LANKA)</td>\n",
       "      <td>Eastern Province</td>\n",
       "      <td>Swimming related</td>\n",
       "      <td>M</td>\n",
       "      <td>NaN</td>\n",
       "      <td>S.W. Baker</td>\n",
       "      <td></td>\n",
       "      <td>Y</td>\n",
       "    </tr>\n",
       "  </tbody>\n",
       "</table>\n",
       "<p>4952 rows × 10 columns</p>\n",
       "</div>"
      ],
      "text/plain": [
       "      Year        Type             Country               Area  \\\n",
       "0     2018     Boating                 USA         California   \n",
       "1     2018  Unprovoked                 USA            Georgia   \n",
       "2     2018     Invalid                 USA             Hawaii   \n",
       "3     2018  Unprovoked           AUSTRALIA    New South Wales   \n",
       "4     2018    Provoked              MEXICO             Colima   \n",
       "...    ...         ...                 ...                ...   \n",
       "6296        Unprovoked           AUSTRALIA    New South Wales   \n",
       "6297        Unprovoked           AUSTRALIA  Western Australia   \n",
       "6298        Unprovoked           AUSTRALIA  Western Australia   \n",
       "6299        Unprovoked                 USA     North Carolina   \n",
       "6301        Unprovoked  CEYLON (SRI LANKA)   Eastern Province   \n",
       "\n",
       "                     Activity Sex                                 Time  \\\n",
       "0     Board involved activity   F  Random or not clear time references   \n",
       "1                    Standing   F                            Afternoon   \n",
       "2     Board involved activity   M                              Morning   \n",
       "3     Board involved activity   M                                  NaN   \n",
       "4           Diving activities   M                                  NaN   \n",
       "...                       ...  ..                                  ...   \n",
       "6296         Swimming related   M                                  NaN   \n",
       "6297        Diving activities   M                                  NaN   \n",
       "6298        Diving activities   M                                  NaN   \n",
       "6299         Swimming related   M                                  NaN   \n",
       "6301         Swimming related   M                                  NaN   \n",
       "\n",
       "                                 Investigator or Source Month Fatal  \n",
       "0                                      R. Collier, GSAF   Jun     N  \n",
       "1                        K.McMurray, TrackingSharks.com   Jun     N  \n",
       "2                        K.McMurray, TrackingSharks.com   Jun     N  \n",
       "3                                        B. Myatt, GSAF   Jun     N  \n",
       "4                                             A .Kipper   Jun     N  \n",
       "...                                                 ...   ...   ...  \n",
       "6296  L. Becke in New York Sun, 9/9/1906; L. Schultz...           Y  \n",
       "6297                   H. Taunton; N. Bartlett,  p. 234           Y  \n",
       "6298              H. Taunton; N. Bartlett,  pp. 233-234           Y  \n",
       "6299               F. Schwartz, p.23; C. Creswell, GSAF           Y  \n",
       "6301                                         S.W. Baker           Y  \n",
       "\n",
       "[4952 rows x 10 columns]"
      ]
     },
     "execution_count": 17,
     "metadata": {},
     "output_type": "execute_result"
    }
   ],
   "source": [
    "attacks"
   ]
  }
 ],
 "metadata": {
  "kernelspec": {
   "display_name": "Python 3 (ipykernel)",
   "language": "python",
   "name": "python3"
  },
  "language_info": {
   "codemirror_mode": {
    "name": "ipython",
    "version": 3
   },
   "file_extension": ".py",
   "mimetype": "text/x-python",
   "name": "python",
   "nbconvert_exporter": "python",
   "pygments_lexer": "ipython3",
   "version": "3.9.15"
  }
 },
 "nbformat": 4,
 "nbformat_minor": 5
}
