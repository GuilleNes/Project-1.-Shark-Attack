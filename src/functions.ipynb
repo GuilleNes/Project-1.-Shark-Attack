{
 "cells": [
  {
   "cell_type": "code",
   "execution_count": 1,
   "id": "89d0fb03",
   "metadata": {},
   "outputs": [],
   "source": [
    "def filter_activity (y):\n",
    "    \n",
    "    dict_time = {\n",
    "                         \"Swimming related\": \".*(swim).*|.*(SWIM).*\",\n",
    "                         \"Board involved activity\": \".*(Surf).*|.*(surf).*|.*(Board).*|.*(board).*|.*(Pad).*|.*(pad).*|.*(Kay).*|.*(Canoe).*\",\n",
    "                         \"Fishing related\": \".*(fish).*|(Fish).*|.*(Kill).*|.*(Pull).*|.*(Pick).*|.*(feed).*\",\n",
    "                         \"Beach activities\":\".*(Wad).*|.*(Bath).*|.*(bath).*|.*(Stans).*|.*(Play).*|.*(play).*|.*(Walk).*|.*(walk).*\",\n",
    "                         \"Diving activities\": \".*(Div).*|.*(div).*|.*(underw).*|.*(Snork).*\",\n",
    "                         \"Consequence of a shipwreck\": \".*(dinghy).*|.*(collide).*|.*(lifeboat).*|.*(explodex).*|.*(skiff).*\",\n",
    "                         \"Consequence of handeling sharks\": \".*(Shark).*|.*(shark).*\",\n",
    "                        }\n",
    "    for key, value in dict_time.items():\n",
    "        \n",
    "        y = y.str.replace(value, key, regex = True)\n",
    "        \n",
    "    return\n",
    "    \n",
    "# \n",
    "# for i in attacks_filtered[\"Activity\"]:\n",
    "#         i = str(i)\n",
    "#         if \"swim\" in i or \"Swim\" in i:\n",
    "#             attacks_filtered[\"Activity\"] = attacks_filtered[\"Activity\"].replace(i, \"Swimming related\")\n",
    "#         elif \"surf\" in i or \"Surf\" in i or \"Board\" in i or \"board\" in i or \"Pad\" in i or \"pad\" in i:\n",
    "#             attacks_filtered[\"Activity\"] = attacks_filtered[\"Activity\"].replace(i, \"Board involved activity\")\n",
    "#         elif \"fish\" in i or \"Fish\" in i or \"Kill\" in i or \"Pull\" in i or \"Pick\" in i or \"feed\" in i:\n",
    "#             attacks_filtered[\"Activity\"] = attacks_filtered[\"Activity\"].replace(i, \"Fishing related\")\n",
    "#         elif \"Wad\" in i or \"Bath\" in i or \"bath\"in i or \"Stand\"in i or \"Play\" in i or \"play\" in i or \"Walk\" in i or \"walk\" in i:\n",
    "#             attacks_filtered[\"Activity\"] = attacks_filtered[\"Activity\"].replace(i, \"Beach activities\")\n",
    "#         elif \"Div\" in i or \"div\" in i or \"underw\" in i:\n",
    "#             attacks_filtered[\"Activity\"] = attacks_filtered[\"Activity\"].replace(i, \"Diving activities\")\n",
    "#         elif \"dinghy\" in i or \"collide\" in i or \"lifeboat\" in i or \"explodex\" in i or \"skiff\" in i:\n",
    "#             attacks_filtered[\"Activity\"] = attacks_filtered[\"Activity\"].replace(i, \"Consequence of a shipwreck\")\n",
    "#         elif \"Shark\"in i or \"shark\" in i:\n",
    "#             attacks_filtered[\"Activity\"] = attacks_filtered[\"Activity\"].replace(i, \"Consequence of handeling sharks\")\n",
    "#         else:\n",
    "#             attacks_filtered[\"Activity\"] = attacks_filtered[\"Activity\"].replace(i, \"Other random, unclassifiable or silly activities\")\n",
    "       \n"
   ]
  },
  {
   "cell_type": "code",
   "execution_count": 2,
   "id": "24cec318",
   "metadata": {},
   "outputs": [],
   "source": [
    "# def filter_time(alist):\n",
    "    \n",
    "#     for i in alist:\n",
    "#         i = str(i)\n",
    "\n",
    "#         if \"06\" in i or \"07\"  in i or \"08\" in i or \"09\" in i or \"10\" in i or \"11\" in i or \"morning\" in i or \"Morning\" in i or \"A.M\" in i or \"AM\" in i or \"dawn\" in i or \"Dawn\"in i:\n",
    "#             alist = alist.replace(i, \"Morning\")\n",
    "\n",
    "#         elif \"12\" in i or \"13\"in i or \"14\"in i or \"15\"in i or \"16\"in i or \"17\"in i or \"afternoon\"in i or \"lunch\"in i or \"noon\"in i or \"Noon\"in i or \"Midday\"in i or \"P.M.\" in i:      \n",
    "#             alist = alist.replace(i, \"Afternoon\")\n",
    "\n",
    "#         elif \"18\"in i or \"19\"in i or \"20\"in i or \"21\"in i or \"Sunset\"in i or \"dusk\"in i or \"Dusk\"in i or \"evening\" in i:\n",
    "#             alist = alist.replace(i, \"Evening\")\n",
    "\n",
    "#         elif \"22\"in i or \"23\"in i or \"24\"in i or \"01\"in i or \"02\"in i or \"03\"in i or \"04\"in i or \"05\"in i or \"Night\"in i or \"night\"in i:\n",
    "#             alist = alist.replace(i, \"Nightime\")\n",
    "            \n",
    "# #         else:\n",
    "# #             attacks_filtered[\"Time\"] = attacks_filtered[\"Time\"].replace(i, \"Random, weird or not clear time references\")\n",
    "     \n",
    "#     return alist"
   ]
  },
  {
   "cell_type": "code",
   "execution_count": 3,
   "id": "ca0ba9f7",
   "metadata": {},
   "outputs": [],
   "source": [
    "def move_info(list1, list2):\n",
    "    for i in range(len(list1)):\n",
    "        if type(list1[i]) != str:\n",
    "            list1[i] = list2[i]\n",
    "    attacks_filtered[\"NewYear\"] = list1\n",
    "    return"
   ]
  },
  {
   "cell_type": "code",
   "execution_count": 4,
   "id": "ad4584ef",
   "metadata": {},
   "outputs": [],
   "source": [
    "# morning =[\"06\",\"07\",\"08\",\"09\",\"10\",\"11\",\"morning\",\"A.M\",\"AM\",\"dawn\",\"Dawn\"]\n",
    "# afternoon = [\"12\",\"13\",\"14\",\"15\",\"16\",\"17\",\"afternoon\",\"lunch\",\"noon\",\"Noon\",\"Midday\",\"P.M.\"]\n",
    "# evening = [\"18\",\"19\",\"20\",\"21\",\"Sunset\",\"dusk\",\"Dusk\",\"evening\"]\n",
    "# night = [\"22\",\"23\",\"24\",\"01\",\"02\",\"03\",\"04\",\"05\",\"Night\",\"night\"]\n",
    "\n",
    "# def clean_time():\n",
    "    \n",
    "\n",
    "#     dict_time = {\n",
    "#                  \"Morning\": \".* (06).*|.* (07)*|.*(08)*|.*(09)*|.*(10)*|.*(11).*|.*(morning).*|.* (A.M).*|.* (AM).*|.* (dawn).*|.* (Dawn).*\",\n",
    "#                  \"Afternoon\": \".*(12).*|.* (13).*|.* (14).*|.* (15).*|.* (16).*|.* (17).*|.* (afternoon).*|.* (lunch).*|.* (noon).*|.* (Noon).*|.* (Midday).*|.* (P.M.).*\",\n",
    "#                  \"Evening\": \".*(18).*|.* (19).*|.* (20).*|.* (21).*|.* (Sunset).*|.* (dusk).*|.* (Dusk).*|.* (evening).*\",\n",
    "#                  \"Nightime\":\".*(22).*|.* (23).*|.* (24).*|.* (01).*|.* (02)*|.* (03).*|.* (04).*|.* (05)*|.* (Night)*|.* (night).*\"\n",
    "#                 }\n",
    "#     for key, value in dict_time.items():\n",
    "#         alist=alist.str.replace(value, key)\n",
    "        \n",
    "#     return"
   ]
  },
  {
   "cell_type": "code",
   "execution_count": null,
   "id": "0fa2e4e4",
   "metadata": {},
   "outputs": [],
   "source": []
  },
  {
   "cell_type": "code",
   "execution_count": null,
   "id": "6df35bf9",
   "metadata": {},
   "outputs": [],
   "source": []
  },
  {
   "cell_type": "code",
   "execution_count": null,
   "id": "548aba68",
   "metadata": {},
   "outputs": [],
   "source": []
  }
 ],
 "metadata": {
  "kernelspec": {
   "display_name": "Python 3 (ipykernel)",
   "language": "python",
   "name": "python3"
  },
  "language_info": {
   "codemirror_mode": {
    "name": "ipython",
    "version": 3
   },
   "file_extension": ".py",
   "mimetype": "text/x-python",
   "name": "python",
   "nbconvert_exporter": "python",
   "pygments_lexer": "ipython3",
   "version": "3.9.13"
  }
 },
 "nbformat": 4,
 "nbformat_minor": 5
}
